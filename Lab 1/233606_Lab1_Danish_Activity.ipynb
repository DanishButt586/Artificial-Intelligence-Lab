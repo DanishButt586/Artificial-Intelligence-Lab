{
  "nbformat": 4,
  "nbformat_minor": 0,
  "metadata": {
    "colab": {
      "provenance": []
    },
    "kernelspec": {
      "name": "python3",
      "display_name": "Python 3"
    },
    "language_info": {
      "name": "python"
    }
  },
  "cells": [
    {
      "cell_type": "markdown",
      "source": [
        "# **Lab 1 Activity**"
      ],
      "metadata": {
        "id": "uF3jBA7I8iKS"
      }
    },
    {
      "cell_type": "markdown",
      "source": [
        "*Activity 1*"
      ],
      "metadata": {
        "id": "DRKsOtEt8xK4"
      }
    },
    {
      "cell_type": "code",
      "source": [
        "print(1 + 3)\n",
        "print(10 / 2)\n",
        "print(5 ** 2)"
      ],
      "metadata": {
        "colab": {
          "base_uri": "https://localhost:8080/"
        },
        "id": "tVvJAptk9FXb",
        "outputId": "092674ad-1f99-471d-fd3d-f67a0a5d5b64"
      },
      "execution_count": 7,
      "outputs": [
        {
          "output_type": "stream",
          "name": "stdout",
          "text": [
            "4\n",
            "5.0\n",
            "25\n"
          ]
        }
      ]
    },
    {
      "cell_type": "markdown",
      "source": [
        "*Activity 2*"
      ],
      "metadata": {
        "id": "IEs0B4FH9f0I"
      }
    },
    {
      "cell_type": "code",
      "source": [
        "print(\"python\" + \" basics\")\n",
        "print(\"AI \" * 3)"
      ],
      "metadata": {
        "colab": {
          "base_uri": "https://localhost:8080/"
        },
        "id": "GmpcXAZ59k4b",
        "outputId": "2e37a2a7-85e9-49e4-925e-98f94dbf40d8"
      },
      "execution_count": 8,
      "outputs": [
        {
          "output_type": "stream",
          "name": "stdout",
          "text": [
            "python basics\n",
            "AI AI AI \n"
          ]
        }
      ]
    },
    {
      "cell_type": "markdown",
      "source": [
        "*Activity 3*"
      ],
      "metadata": {
        "id": "ZduC6HVF9pS-"
      }
    },
    {
      "cell_type": "code",
      "source": [
        "fruit = \"apple\"\n",
        "print(fruit)\n",
        "fruit = 17\n",
        "print(fruit)\n",
        "x = str(3); y = int(3); z = float(3)\n",
        "print(type(x), type(y), type(z))"
      ],
      "metadata": {
        "colab": {
          "base_uri": "https://localhost:8080/"
        },
        "id": "FcYnWtbJ9rAI",
        "outputId": "621e94da-a680-4b1f-fdee-936c7138f4a1"
      },
      "execution_count": 9,
      "outputs": [
        {
          "output_type": "stream",
          "name": "stdout",
          "text": [
            "apple\n",
            "17\n",
            "<class 'str'> <class 'int'> <class 'float'>\n"
          ]
        }
      ]
    },
    {
      "cell_type": "markdown",
      "source": [
        "*Activity 4*"
      ],
      "metadata": {
        "id": "tTjT1bzj-BIa"
      }
    },
    {
      "cell_type": "code",
      "source": [
        "mylist = [\"apple\", 34.5, \"banana\", 9]\n",
        "print(\"Complete list:\", mylist)\n",
        "print(\"First element:\", mylist[0])\n",
        "print(\"Last element:\", mylist[-1])\n",
        "print(\"Sublist from index 1 to 2:\", mylist[1:3])\n",
        "print(\"Every second element:\", mylist[::2])\n",
        "if \"app\" in mylist[0]:\n",
        "  print(\"Substring 'app' found in the first element.\")\n",
        "mylist.append(\"grape\")\n",
        "print(\"List after appending 'grape':\", mylist)\n",
        "mylist.remove(\"banana\")\n",
        "print(\"List after removing 'banana':\", mylist)\n",
        "mylist[1] = 99.9\n",
        "print(\"List after updating index 1:\", mylist)"
      ],
      "metadata": {
        "colab": {
          "base_uri": "https://localhost:8080/"
        },
        "id": "tfjoJrIc-Czq",
        "outputId": "6e3d6d69-506d-40ce-8522-6e37c5e10f81"
      },
      "execution_count": 20,
      "outputs": [
        {
          "output_type": "stream",
          "name": "stdout",
          "text": [
            "Complete list: ['apple', 34.5, 'banana', 9]\n",
            "First element: apple\n",
            "Last element: 9\n",
            "Sublist from index 1 to 2: [34.5, 'banana']\n",
            "Every second element: ['apple', 'banana']\n",
            "Substring 'app' found in the first element.\n",
            "List after appending 'grape': ['apple', 34.5, 'banana', 9, 'grape']\n",
            "List after removing 'banana': ['apple', 34.5, 9, 'grape']\n",
            "List after updating index 1: ['apple', 99.9, 9, 'grape']\n"
          ]
        }
      ]
    },
    {
      "cell_type": "markdown",
      "source": [
        "*Activity 5*"
      ],
      "metadata": {
        "id": "l-S13uO8M5-W"
      }
    },
    {
      "cell_type": "code",
      "source": [
        "car = {\"brand\": \"Ford\", \"model\": \"Mustang\", \"year\": 1964}\n",
        "print(\"Initial dictionary:\", car)\n",
        "\n",
        "print(\"Model of the car:\", car[\"model\"])\n",
        "\n",
        "car[\"year\"] = 2024\n",
        "print(\"After updating 'year':\", car)\n",
        "\n",
        "car[\"color\"] = \"red\"\n",
        "print(\"After adding a new key 'color':\", car)\n",
        "\n",
        "removed_value = car.pop(\"model\")\n",
        "print(\"Removed 'model' key with value:\", removed_value)\n",
        "print(\"Dictionary after pop operation:\", car)\n",
        "\n",
        "last_item = car.popitem()\n",
        "print(\"Removed the last inserted item:\", last_item)\n",
        "print(\"Dictionary after popitem:\", car)\n",
        "\n",
        "print(\"Get 'brand' safely:\", car.get(\"brand\"))\n",
        "print(\"Get non-existing key safely (returns None):\", car.get(\"engine\"))\n",
        "\n",
        "if \"brand\" in car:\n",
        "  print(\"'brand' key exists in the dictionary.\")\n",
        "\n",
        "print(\"All keys:\", car.keys())\n",
        "print(\"All values:\", car.values())\n",
        "print(\"All items (key–value pairs):\", car.items())\n",
        "\n",
        "car_copy = car.copy()\n",
        "print(\"Shallow copy of dictionary:\", car_copy)\n",
        "\n",
        "car.clear()\n",
        "print(\"Dictionary after clearing all items:\", car)"
      ],
      "metadata": {
        "colab": {
          "base_uri": "https://localhost:8080/"
        },
        "id": "uzkCtJJcM7nb",
        "outputId": "0bb47ac6-46b8-4f32-c568-dcf4f7c6752c"
      },
      "execution_count": 1,
      "outputs": [
        {
          "output_type": "stream",
          "name": "stdout",
          "text": [
            "Initial dictionary: {'brand': 'Ford', 'model': 'Mustang', 'year': 1964}\n",
            "Model of the car: Mustang\n",
            "After updating 'year': {'brand': 'Ford', 'model': 'Mustang', 'year': 2024}\n",
            "After adding a new key 'color': {'brand': 'Ford', 'model': 'Mustang', 'year': 2024, 'color': 'red'}\n",
            "Removed 'model' key with value: Mustang\n",
            "Dictionary after pop operation: {'brand': 'Ford', 'year': 2024, 'color': 'red'}\n",
            "Removed the last inserted item: ('color', 'red')\n",
            "Dictionary after popitem: {'brand': 'Ford', 'year': 2024}\n",
            "Get 'brand' safely: Ford\n",
            "Get non-existing key safely (returns None): None\n",
            "'brand' key exists in the dictionary.\n",
            "All keys: dict_keys(['brand', 'year'])\n",
            "All values: dict_values(['Ford', 2024])\n",
            "All items (key–value pairs): dict_items([('brand', 'Ford'), ('year', 2024)])\n",
            "Shallow copy of dictionary: {'brand': 'Ford', 'year': 2024}\n",
            "Dictionary after clearing all items: {}\n"
          ]
        }
      ]
    },
    {
      "cell_type": "markdown",
      "source": [
        "*Activity 6*"
      ],
      "metadata": {
        "id": "ZUs5-JmRPNB9"
      }
    },
    {
      "cell_type": "code",
      "source": [
        "thisset = {\"apple\", \"banana\", \"cherry\"}\n",
        "print(\"Initial set:\", thisset)\n",
        "\n",
        "set1 = {\"abc\", 34, True, 40, \"male\"}\n",
        "print(\"Mixed-type set:\", set1)\n",
        "\n",
        "thisset.add(\"orange\")\n",
        "\n",
        "print(\"After adding 'orange':\", thisset)\n",
        "\n",
        "thisset.update([\"grape\", \"mango\"])\n",
        "print(\"After adding multiple elements:\", thisset)\n",
        "\n",
        "thisset.remove(\"banana\")\n",
        "print(\"After removing 'banana':\", thisset)\n",
        "thisset.discard(\"papaya\")\n",
        "print(\"After attempting to discard 'papaya' (not present):\", thisset)\n",
        "\n",
        "removed_item = thisset.pop()\n",
        "print(\"Removed an arbitrary element:\", removed_item)\n",
        "print(\"Set after pop operation:\", thisset)\n",
        "\n",
        "print(\"Is 'apple' in the set?\", \"apple\" in thisset)\n",
        "\n",
        "union_set = thisset.union(set1)\n",
        "\n",
        "print(\"Union of thisset and set1:\", union_set)\n",
        "\n",
        "intersection_set = thisset.intersection(set1)\n",
        "print(\"Intersection of thisset and set1:\", intersection_set)\n",
        "\n",
        "difference_set = thisset.difference(set1)\n",
        "print(\"Difference (thisset - set1):\", difference_set)\n",
        "\n",
        "copy_set = thisset.copy()\n",
        "print(\"Copy of the set:\", copy_set)\n",
        "\n",
        "thisset.clear()\n",
        "print(\"Set after clearing all elements:\", thisset)"
      ],
      "metadata": {
        "colab": {
          "base_uri": "https://localhost:8080/"
        },
        "id": "tMIszqRSPO_X",
        "outputId": "b4d114c1-e3b4-4a1a-cae2-5c0823c4ff55"
      },
      "execution_count": 2,
      "outputs": [
        {
          "output_type": "stream",
          "name": "stdout",
          "text": [
            "Initial set: {'apple', 'banana', 'cherry'}\n",
            "Mixed-type set: {True, 34, 'abc', 'male', 40}\n",
            "After adding 'orange': {'orange', 'apple', 'banana', 'cherry'}\n",
            "After adding multiple elements: {'orange', 'cherry', 'banana', 'grape', 'mango', 'apple'}\n",
            "After removing 'banana': {'orange', 'cherry', 'grape', 'mango', 'apple'}\n",
            "After attempting to discard 'papaya' (not present): {'orange', 'cherry', 'grape', 'mango', 'apple'}\n",
            "Removed an arbitrary element: orange\n",
            "Set after pop operation: {'cherry', 'grape', 'mango', 'apple'}\n",
            "Is 'apple' in the set? True\n",
            "Union of thisset and set1: {True, 34, 'cherry', 40, 'abc', 'mango', 'grape', 'male', 'apple'}\n",
            "Intersection of thisset and set1: set()\n",
            "Difference (thisset - set1): {'apple', 'mango', 'grape', 'cherry'}\n",
            "Copy of the set: {'apple', 'mango', 'grape', 'cherry'}\n",
            "Set after clearing all elements: set()\n"
          ]
        }
      ]
    },
    {
      "cell_type": "markdown",
      "source": [
        "*Activity 7*"
      ],
      "metadata": {
        "id": "YDls3aiPPhyb"
      }
    },
    {
      "cell_type": "code",
      "source": [
        "thistuple = (\"apple\", \"banana\", \"cherry\")\n",
        "print(thistuple[1])"
      ],
      "metadata": {
        "colab": {
          "base_uri": "https://localhost:8080/"
        },
        "id": "z7yNdwAyPmXG",
        "outputId": "87589cb7-dc65-4b5f-dea1-eb03718326c0"
      },
      "execution_count": 3,
      "outputs": [
        {
          "output_type": "stream",
          "name": "stdout",
          "text": [
            "banana\n"
          ]
        }
      ]
    },
    {
      "cell_type": "markdown",
      "source": [
        "*Activity 8*"
      ],
      "metadata": {
        "id": "qIq_xegCPsxF"
      }
    },
    {
      "cell_type": "code",
      "source": [
        "a, b = 33, 200\n",
        "if b > a:\n",
        "  print(\"b is greater than a\")\n",
        "elif a == b:\n",
        "  print(\"a and b are equal\")\n",
        "else:\n",
        "  print(\"a is greater than b\")"
      ],
      "metadata": {
        "colab": {
          "base_uri": "https://localhost:8080/"
        },
        "id": "YKZAKelPPt9_",
        "outputId": "6af4071e-56ec-49d7-bd5f-70246e18ec5b"
      },
      "execution_count": 4,
      "outputs": [
        {
          "output_type": "stream",
          "name": "stdout",
          "text": [
            "b is greater than a\n"
          ]
        }
      ]
    },
    {
      "cell_type": "markdown",
      "source": [
        "*Activity 9*"
      ],
      "metadata": {
        "id": "miiUBUy7P3aY"
      }
    },
    {
      "cell_type": "code",
      "source": [
        "for i in range(5):\n",
        "  print(\"Number:\", i)\n",
        "\n",
        "for i in range(2, 7):\n",
        "  print(\"From 2 to 6:\", i)\n",
        "\n",
        "for i in range(0, 10, 2):\n",
        "  print(\"Even number:\", i)\n",
        "\n",
        "for i in range(5, 0, -1):\n",
        "  print(\"Countdown:\", i)\n",
        "\n",
        "fruits = [\"apple\", \"banana\", \"cherry\"]\n",
        "for index in range(len(fruits)):\n",
        "  print(\"Index:\", index, \"Fruit:\", fruits[index])\n",
        "\n",
        "for i in range(10):\n",
        "  if i % 2 != 0:\n",
        "    print(\"Odd number:\", i)"
      ],
      "metadata": {
        "colab": {
          "base_uri": "https://localhost:8080/"
        },
        "id": "TEwFF8a_P4f9",
        "outputId": "b8a833a4-cced-4483-f8c9-63083b4c671f"
      },
      "execution_count": 5,
      "outputs": [
        {
          "output_type": "stream",
          "name": "stdout",
          "text": [
            "Number: 0\n",
            "Number: 1\n",
            "Number: 2\n",
            "Number: 3\n",
            "Number: 4\n",
            "From 2 to 6: 2\n",
            "From 2 to 6: 3\n",
            "From 2 to 6: 4\n",
            "From 2 to 6: 5\n",
            "From 2 to 6: 6\n",
            "Even number: 0\n",
            "Even number: 2\n",
            "Even number: 4\n",
            "Even number: 6\n",
            "Even number: 8\n",
            "Countdown: 5\n",
            "Countdown: 4\n",
            "Countdown: 3\n",
            "Countdown: 2\n",
            "Countdown: 1\n",
            "Index: 0 Fruit: apple\n",
            "Index: 1 Fruit: banana\n",
            "Index: 2 Fruit: cherry\n",
            "Odd number: 1\n",
            "Odd number: 3\n",
            "Odd number: 5\n",
            "Odd number: 7\n",
            "Odd number: 9\n"
          ]
        }
      ]
    },
    {
      "cell_type": "markdown",
      "source": [
        "*Activity 10*"
      ],
      "metadata": {
        "id": "Wk585-AxQFTL"
      }
    },
    {
      "cell_type": "code",
      "source": [
        "def my_function(fname, lname):\n",
        "    print(\"Full name:\", fname + \" \" + lname)\n",
        "\n",
        "my_function(\"Emil\", \"Refsnes\")\n",
        "\n",
        "def kids_function(*kids):\n",
        "    print(\"The youngest child is:\", kids[2])\n",
        "\n",
        "kids_function(\"Emil\", \"Tobias\", \"Linus\")\n",
        "\n",
        "def greet_user(name=\"Guest\"):\n",
        "    print(\"Hello,\", name)\n",
        "\n",
        "greet_user()\n",
        "greet_user(\"Alice\")\n",
        "\n",
        "def describe_pet(**pet_info):\n",
        "    print(\"Pet details:\")\n",
        "    for key, value in pet_info.items():\n",
        "        print(key.capitalize() + \":\", value)\n",
        "\n",
        "describe_pet(type=\"Dog\", name=\"Buddy\", age=5)\n",
        "\n",
        "def add_numbers(a, b):\n",
        "    return a + b\n",
        "\n",
        "result = add_numbers(10, 20)\n",
        "print(\"Sum of numbers:\", result)"
      ],
      "metadata": {
        "colab": {
          "base_uri": "https://localhost:8080/"
        },
        "id": "CqPjtyDfSB95",
        "outputId": "6a307dd4-8267-4ab9-94a1-3965fb3262c9"
      },
      "execution_count": 7,
      "outputs": [
        {
          "output_type": "stream",
          "name": "stdout",
          "text": [
            "Full name: Emil Refsnes\n",
            "The youngest child is: Linus\n",
            "Hello, Guest\n",
            "Hello, Alice\n",
            "Pet details:\n",
            "Type: Dog\n",
            "Name: Buddy\n",
            "Age: 5\n",
            "Sum of numbers: 30\n"
          ]
        }
      ]
    }
  ]
}