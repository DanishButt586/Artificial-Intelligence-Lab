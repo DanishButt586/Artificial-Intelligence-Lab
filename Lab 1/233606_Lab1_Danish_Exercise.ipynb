{
  "nbformat": 4,
  "nbformat_minor": 0,
  "metadata": {
    "colab": {
      "provenance": []
    },
    "kernelspec": {
      "name": "python3",
      "display_name": "Python 3"
    },
    "language_info": {
      "name": "python"
    }
  },
  "cells": [
    {
      "cell_type": "markdown",
      "source": [
        "# **Lab 1 Exercise**"
      ],
      "metadata": {
        "id": "EF_z6o0YSrFL"
      }
    },
    {
      "cell_type": "markdown",
      "source": [
        "*Exercise 1*"
      ],
      "metadata": {
        "id": "ZYov9UtGSuqc"
      }
    },
    {
      "cell_type": "code",
      "source": [
        "num = int(input(\"Enter a number: \"))\n",
        "\n",
        "if num > 1:\n",
        "    for i in range(2, int(num ** 0.5) + 1):\n",
        "        if num % i == 0:\n",
        "            print(num, \"is not a prime number\")\n",
        "            break\n",
        "    else:\n",
        "        print(num, \"is a prime number\")\n",
        "else:\n",
        "    print(num, \"is not a prime number\")\n"
      ],
      "metadata": {
        "colab": {
          "base_uri": "https://localhost:8080/"
        },
        "id": "7d82itDESyxq",
        "outputId": "d07c808b-c4cf-4a63-f823-5ebf8c159a04"
      },
      "execution_count": 1,
      "outputs": [
        {
          "output_type": "stream",
          "name": "stdout",
          "text": [
            "Enter a number: 122\n",
            "122 is not a prime number\n"
          ]
        }
      ]
    },
    {
      "cell_type": "markdown",
      "source": [
        "Exercise 2"
      ],
      "metadata": {
        "id": "e3DE8YkySzkb"
      }
    },
    {
      "cell_type": "code",
      "source": [
        "numbers = [10, 20, 30, 40, 50, 60, 70, 80, 90, 100]\n",
        "\n",
        "average = sum(numbers) / len(numbers)\n",
        "\n",
        "print(\"The average is:\", average)\n"
      ],
      "metadata": {
        "colab": {
          "base_uri": "https://localhost:8080/"
        },
        "id": "iNv43byIS2Hn",
        "outputId": "b1e70141-ce81-4c87-da3b-45599e7a52cb"
      },
      "execution_count": 2,
      "outputs": [
        {
          "output_type": "stream",
          "name": "stdout",
          "text": [
            "The average is: 55.0\n"
          ]
        }
      ]
    },
    {
      "cell_type": "markdown",
      "source": [
        "Exercise 3"
      ],
      "metadata": {
        "id": "qWdrJRpvS2k1"
      }
    },
    {
      "cell_type": "code",
      "source": [
        "students = {\n",
        "    \"Danish\": 85,\n",
        "    \"Rayyan\": 92,\n",
        "    \"Ahmad\": 78,\n",
        "    \"Umer\": 95,\n",
        "    \"Abubakar\": 88\n",
        "}\n",
        "\n",
        "topper = max(students, key=students.get)\n",
        "\n",
        "print(\"Topper:\", topper, \"with marks:\", students[topper])\n"
      ],
      "metadata": {
        "colab": {
          "base_uri": "https://localhost:8080/"
        },
        "id": "uLlDCqyPS3qa",
        "outputId": "a82089e7-0408-4d19-d872-dd91732c75ae"
      },
      "execution_count": 3,
      "outputs": [
        {
          "output_type": "stream",
          "name": "stdout",
          "text": [
            "Topper: Umer with marks: 95\n"
          ]
        }
      ]
    },
    {
      "cell_type": "markdown",
      "source": [
        "Exercise 4"
      ],
      "metadata": {
        "id": "NE5PZqt5S4xA"
      }
    },
    {
      "cell_type": "code",
      "source": [
        "set1 = {1, 2, 3, 4, 5}\n",
        "set2 = {4, 5, 6, 7, 8}\n",
        "\n",
        "union_set = set1.union(set2)\n",
        "print(\"Union:\", union_set)\n",
        "\n",
        "intersection_set = set1.intersection(set2)\n",
        "print(\"Intersection:\", intersection_set)\n",
        "\n",
        "difference_set = set1.difference(set2)\n",
        "print(\"Difference (set1 - set2):\", difference_set)\n"
      ],
      "metadata": {
        "colab": {
          "base_uri": "https://localhost:8080/"
        },
        "id": "8LngVcjAS50H",
        "outputId": "38b14283-3e06-4a10-9ccd-10bbb56bff2d"
      },
      "execution_count": 4,
      "outputs": [
        {
          "output_type": "stream",
          "name": "stdout",
          "text": [
            "Union: {1, 2, 3, 4, 5, 6, 7, 8}\n",
            "Intersection: {4, 5}\n",
            "Difference (set1 - set2): {1, 2, 3}\n"
          ]
        }
      ]
    },
    {
      "cell_type": "markdown",
      "source": [
        "Exercise 5"
      ],
      "metadata": {
        "id": "xnBXe1unS6c1"
      }
    },
    {
      "cell_type": "code",
      "source": [
        "def factorial(n):\n",
        "    if n == 0 or n == 1:\n",
        "        return 1\n",
        "    else:\n",
        "        return n * factorial(n - 1)\n",
        "\n",
        "num = int(input(\"Enter a number: \"))\n",
        "print(\"Factorial of\", num, \"is:\", factorial(num))\n"
      ],
      "metadata": {
        "colab": {
          "base_uri": "https://localhost:8080/"
        },
        "id": "yXREtsJES8fS",
        "outputId": "e650629d-996f-4efc-c223-29d60196b970"
      },
      "execution_count": 5,
      "outputs": [
        {
          "output_type": "stream",
          "name": "stdout",
          "text": [
            "Enter a number: 12\n",
            "Factorial of 12 is: 479001600\n"
          ]
        }
      ]
    },
    {
      "cell_type": "markdown",
      "source": [
        "Exercise 6"
      ],
      "metadata": {
        "id": "jdBAAsFRS9Mj"
      }
    },
    {
      "cell_type": "code",
      "source": [
        "n = int(input(\"Enter number of terms: \"))\n",
        "\n",
        "a, b = 0, 1\n",
        "\n",
        "print(\"Fibonacci series:\")\n",
        "for i in range(n):\n",
        "    print(a, end=\" \")\n",
        "    a, b = b, a + b\n"
      ],
      "metadata": {
        "colab": {
          "base_uri": "https://localhost:8080/"
        },
        "id": "G8wK_X-WS-Zq",
        "outputId": "22809def-01c2-403f-d828-69aef707258f"
      },
      "execution_count": 6,
      "outputs": [
        {
          "output_type": "stream",
          "name": "stdout",
          "text": [
            "Enter number of terms: 122\n",
            "Fibonacci series:\n",
            "0 1 1 2 3 5 8 13 21 34 55 89 144 233 377 610 987 1597 2584 4181 6765 10946 17711 28657 46368 75025 121393 196418 317811 514229 832040 1346269 2178309 3524578 5702887 9227465 14930352 24157817 39088169 63245986 102334155 165580141 267914296 433494437 701408733 1134903170 1836311903 2971215073 4807526976 7778742049 12586269025 20365011074 32951280099 53316291173 86267571272 139583862445 225851433717 365435296162 591286729879 956722026041 1548008755920 2504730781961 4052739537881 6557470319842 10610209857723 17167680177565 27777890035288 44945570212853 72723460248141 117669030460994 190392490709135 308061521170129 498454011879264 806515533049393 1304969544928657 2111485077978050 3416454622906707 5527939700884757 8944394323791464 14472334024676221 23416728348467685 37889062373143906 61305790721611591 99194853094755497 160500643816367088 259695496911122585 420196140727489673 679891637638612258 1100087778366101931 1779979416004714189 2880067194370816120 4660046610375530309 7540113804746346429 12200160415121876738 19740274219868223167 31940434634990099905 51680708854858323072 83621143489848422977 135301852344706746049 218922995834555169026 354224848179261915075 573147844013817084101 927372692193078999176 1500520536206896083277 2427893228399975082453 3928413764606871165730 6356306993006846248183 10284720757613717413913 16641027750620563662096 26925748508234281076009 43566776258854844738105 70492524767089125814114 114059301025943970552219 184551825793033096366333 298611126818977066918552 483162952612010163284885 781774079430987230203437 1264937032042997393488322 2046711111473984623691759 3311648143516982017180081 5358359254990966640871840 8670007398507948658051921 "
          ]
        }
      ]
    },
    {
      "cell_type": "markdown",
      "source": [
        "Exercise 7"
      ],
      "metadata": {
        "id": "DFOuDFlIS-1e"
      }
    },
    {
      "cell_type": "code",
      "source": [
        "text = input(\"Enter a string: \")\n",
        "vowels = \"aeiouAEIOU\"\n",
        "count = 0\n",
        "\n",
        "for char in text:\n",
        "    if char in vowels:\n",
        "        count += 1\n",
        "\n",
        "print(\"Number of vowels:\", count)\n"
      ],
      "metadata": {
        "colab": {
          "base_uri": "https://localhost:8080/"
        },
        "id": "3HDxYpamS_tk",
        "outputId": "54f2fcdc-b5e8-43b3-96bd-e564c3eb32a2"
      },
      "execution_count": 7,
      "outputs": [
        {
          "output_type": "stream",
          "name": "stdout",
          "text": [
            "Enter a string: My Name is Danish\n",
            "Number of vowels: 5\n"
          ]
        }
      ]
    },
    {
      "cell_type": "markdown",
      "source": [
        "Exercise 8"
      ],
      "metadata": {
        "id": "_6URfxjyTAry"
      }
    },
    {
      "cell_type": "code",
      "source": [
        "numbers = (12, 45, 7, 89, 34, 67, 23, 5)\n",
        "\n",
        "print(\"Tuple:\", numbers)\n",
        "print(\"Maximum:\", max(numbers))\n",
        "print(\"Minimum:\", min(numbers))\n"
      ],
      "metadata": {
        "colab": {
          "base_uri": "https://localhost:8080/"
        },
        "id": "R2zjINr0TB0D",
        "outputId": "3da49308-830a-42e9-e886-66d57a45db6e"
      },
      "execution_count": 13,
      "outputs": [
        {
          "output_type": "stream",
          "name": "stdout",
          "text": [
            "Tuple: (12, 45, 7, 89, 34, 67, 23, 5)\n",
            "Maximum: 89\n",
            "Minimum: 5\n"
          ]
        }
      ]
    },
    {
      "cell_type": "markdown",
      "source": [
        "Exercise 9"
      ],
      "metadata": {
        "id": "ZKzbVbNUTCbZ"
      }
    },
    {
      "cell_type": "code",
      "source": [
        "numbers = (12, 45, 7, 89, 34, 67, 23, 5)\n",
        "\n",
        "print(\"Tuple:\", numbers)\n",
        "print(\"Maximum:\", max(numbers))\n",
        "print(\"Minimum:\", min(numbers))\n"
      ],
      "metadata": {
        "colab": {
          "base_uri": "https://localhost:8080/"
        },
        "id": "tMucAeFvTDaO",
        "outputId": "1e887234-db42-47cb-96e5-8e2fabef23dc"
      },
      "execution_count": 12,
      "outputs": [
        {
          "output_type": "stream",
          "name": "stdout",
          "text": [
            "Tuple: (12, 45, 7, 89, 34, 67, 23, 5)\n",
            "Maximum: 89\n",
            "Minimum: 5\n"
          ]
        }
      ]
    }
  ]
}